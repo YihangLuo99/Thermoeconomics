{
 "cells": [
  {
   "cell_type": "markdown",
   "metadata": {
    "id": "-V8UhE-70CdP"
   },
   "source": [
    "# Define the agents"
   ]
  },
  {
   "cell_type": "code",
   "execution_count": 9,
   "metadata": {},
   "outputs": [],
   "source": [
    "import random\n",
    "import math\n",
    "from numpy.core.shape_base import atleast_2d\n",
    "import numpy as np\n",
    "import pandas as pd\n",
    "import matplotlib.ticker as ticker\n",
    "import matplotlib.pyplot as plt\n",
    "\n",
    "\n",
    "import matplotlib.pyplot as plt\n",
    "from matplotlib.patches import FancyBboxPatch\n",
    "\n"
   ]
  },
  {
   "cell_type": "code",
   "execution_count": 35,
   "metadata": {},
   "outputs": [],
   "source": [
    "# Import functions in the function file\n",
    "\n",
    "%run trade_functions.ipynb\n"
   ]
  },
  {
   "cell_type": "markdown",
   "metadata": {
    "id": "cmZHW3O9kNsd"
   },
   "source": [
    "## define encounter matrix"
   ]
  },
  {
   "cell_type": "code",
   "execution_count": 36,
   "metadata": {},
   "outputs": [],
   "source": [
    "economy_size=1000"
   ]
  },
  {
   "cell_type": "code",
   "execution_count": 37,
   "metadata": {
    "id": "mRjMUeMtrfSI"
   },
   "outputs": [],
   "source": [
    "import numpy as np\n",
    "\n",
    "# Create a 100x100 matrix filled with 1s\n",
    "matrix = np.ones((economy_size, economy_size))\n",
    "\n",
    "# And  Set the diagonal elements to 0\n",
    "np.fill_diagonal(matrix, 0)\n"
   ]
  },
  {
   "cell_type": "markdown",
   "metadata": {
    "id": "ywkZ4NJw0mgV"
   },
   "source": [
    "## Define Economy A"
   ]
  },
  {
   "cell_type": "code",
   "execution_count": 38,
   "metadata": {},
   "outputs": [],
   "source": [
    "agent_a = create_agent()\n",
    "agent_a['id_list'] = [i for i in range(economy_size)]\n",
    "agent_a['parameter']=[[3,3,3] for _ in range(economy_size)]\n",
    "agent_a['money']=[2 for _ in range(economy_size)]\n",
    "agent_a['gooda']=[1 for _ in range(economy_size)]\n",
    "agent_a['goodb']=[2 for _ in range(economy_size)]\n"
   ]
  },
  {
   "cell_type": "markdown",
   "metadata": {},
   "source": [
    "# Define Economy B"
   ]
  },
  {
   "cell_type": "code",
   "execution_count": 39,
   "metadata": {
    "id": "bCiVZKyXqoec"
   },
   "outputs": [],
   "source": [
    "agent_b = create_agent()\n",
    "agent_b['id_list'] = [i for i in range(economy_size)]\n",
    "agent_b['parameter']=[[3,3,3] for _ in range(economy_size)]\n",
    "agent_b['money']=[2 for _ in range(economy_size)]\n",
    "agent_b['gooda']=[1 for _ in range(economy_size)]\n",
    "agent_b['goodb']=[2 for _ in range(economy_size)]\n",
    "\n"
   ]
  },
  {
   "cell_type": "code",
   "execution_count": 40,
   "metadata": {},
   "outputs": [],
   "source": [
    "agent_c = create_agent()\n",
    "agent_c['id_list'] = [i for i in range(economy_size)]\n",
    "agent_c['parameter']=[[2,2,2] for _ in range(economy_size)]\n",
    "agent_c['money']=[2 for _ in range(economy_size)]\n",
    "agent_c['gooda']=[1 for _ in range(economy_size)]\n",
    "agent_c['goodb']=[2 for _ in range(economy_size)]\n",
    "\n",
    "agent_c['constant']=[1 for _ in range(economy_size)]\n"
   ]
  },
  {
   "cell_type": "markdown",
   "metadata": {
    "id": "Bx-E0hMle498"
   },
   "source": [
    "#Defne  inhomogeneous economy"
   ]
  },
  {
   "cell_type": "markdown",
   "metadata": {
    "id": "iNNWeIBYuPRx"
   },
   "source": [
    "# metropolis"
   ]
  },
  {
   "cell_type": "code",
   "execution_count": 41,
   "metadata": {},
   "outputs": [],
   "source": [
    "def onsager(agent1,agent2,length,size,t,f1,f2,flow):\n",
    "  \n",
    "  mla=agent1['money'].copy()\n",
    "  gala=agent1['gooda'].copy()\n",
    "  gbla=agent1['goodb'].copy()\n",
    "  parametera=agent1['parameter'].copy()\n",
    "    \n",
    "  mlb=agent2['money'].copy()\n",
    "  galb=agent2['gooda'].copy()\n",
    "  gblb=agent2['goodb'].copy()\n",
    "  parameterb=agent2['parameter'].copy()\n",
    "  sum_etaa = sum(sublist[2] for sublist in parametera)\n",
    "  sum_etab= sum(sublist[2] for sublist in parameterb)\n",
    "\n",
    " \n",
    "\n",
    "  \n",
    "  \n",
    "  ga1_history=[]\n",
    "  gb1_history=[]\n",
    "  m1_history=[] \n",
    "  ga2_history=[]\n",
    "  gb2_history=[]\n",
    "  m2_history=[] \n",
    "  for i in range(length[0]):\n",
    "    \n",
    "    gala,gbla,mla=intra_trade(gala,gbla,mla,parametera,matrix,1,f1,f1)\n",
    "    \n",
    "    \n",
    "    galb,gblb,mlb=intra_trade(galb,gblb,mlb,parameterb,matrix,1,f2,f2)\n",
    "    \n",
    "\n",
    "    \n",
    "  \n",
    " \n",
    "      \n",
    "    \n",
    "    \n",
    "  \n",
    "    \n",
    "\n",
    "\n",
    "    \n",
    "  for j in range(length[1]):\n",
    "    \n",
    "    gala,gbla,mla=intra_trade(gala,gbla,mla,parametera,matrix,1,f1,f1)\n",
    "    gala,gbla,mla=direct_trade(gala,gbla,mla, 1, flow)\n",
    "  \n",
    "    \n",
    "    galb,gblb,mlb=intra_trade(galb,gblb,mlb,parameterb,matrix,1,f2,f2)\n",
    "    galb,gblb,mlb=direct_trade(galb,gblb,mlb, -1, flow)\n",
    "  \n",
    "    \n",
    "    gala,gbla,mla,galb,gblb,mlb=inter_trade(gala,gbla,mla,galb,gblb,mlb,parametera,parameterb,matrix,size,t,f1,f2)\n",
    "\n",
    "      \n",
    "    ga1_history.append(sum(gala))\n",
    "    gb1_history.append(sum(gbla))\n",
    "    m1_history.append(sum(mla))\n",
    "    ga2_history.append(sum(galb))\n",
    "    gb2_history.append(sum(gblb))\n",
    "    m2_history.append(sum(mlb))\n",
    "   \n",
    "\n",
    "  return ga1_history,gb1_history,m1_history,ga2_history,gb2_history,m2_history\n",
    "\n",
    "\n",
    "\n"
   ]
  },
  {
   "cell_type": "code",
   "execution_count": 42,
   "metadata": {},
   "outputs": [],
   "source": [
    "def tester(agent1,agent2,gm,length,size,f1,f2):\n",
    "  \n",
    "  # we can update only money and good instead of build new agent set many times as they share same parameters\n",
    "  mla=[gm[2]]*economy_size\n",
    "  gala=[gm[0]]*economy_size\n",
    "  gbla=[gm[1]]*economy_size\n",
    "  \n",
    "  parametera=agent2['parameter'].copy()\n",
    "    \n",
    "  mlb=agent1['money'].copy()\n",
    "  galb=agent1['gooda'].copy()\n",
    "  gblb=agent1['goodb'].copy()\n",
    "  constant=agent1['constant'].copy()\n",
    "  parameterb=agent1['parameter'].copy()\n",
    "  sum_eta=np.sum(agent1['parameter'][2])\n",
    "  sum_alpha1=np.sum(agent1['parameter'][0])\n",
    "  sum_alpha2=np.sum(agent1['parameter'][1])\n",
    " \n",
    "\n",
    "  \n",
    "\n",
    "  ga2_history=[]\n",
    "  gb2_history=[]\n",
    "  m2_history=[] \n",
    "\n",
    "  for i in range(length[0]):\n",
    "    \n",
    "    gala,gbla,mla=intra_trade(gala,gbla,mla,parametera,matrix,1,f1,f1)\n",
    "        \n",
    "      \n",
    "        \n",
    "    galb,gblb,mlb=intra_trade(galb,gblb,mlb,parameterb,matrix,1,f2,f2)\n",
    "    \n",
    "  \n",
    "    \n",
    "    gala,gbla,mla,galb,gblb,mlb=test_trade(gala,gbla,mla,galb,gblb,mlb,parametera,parameterb,matrix,1,[1,1,1],f1,f2)\n",
    "    #gala,gbla,mla,galb,gblb,mlb=test_trade(gala,gbla,mla,galb,gblb,mlb,parametera,parameterb,matrix,1,[0,1,0],f1,f2)\n",
    "    #gala,gbla,mla,galb,gblb,mlb=test_trade(gala,gbla,mla,galb,gblb,mlb,parametera,parameterb,matrix,1,[0,0,1],f1,f2)\n",
    "    \n",
    "\n",
    "    \n",
    "  \n",
    " \n",
    "      \n",
    "    \n",
    "    \n",
    "  \n",
    "    \n",
    "\n",
    "  for k in range (5):\n",
    "      size=size*0.4\n",
    "      length_size=length[1]\n",
    "      \n",
    "    \n",
    "      for j in range(length_size):\n",
    "        \n",
    "        gala,gbla,mla=intra_trade(gala,gbla,mla,parametera,matrix,1,f1,f1)\n",
    "        \n",
    "      \n",
    "        \n",
    "        galb,gblb,mlb=intra_trade(galb,gblb,mlb,parameterb,matrix,1,f2,f2)\n",
    "        \n",
    "      \n",
    "        \n",
    "        gala,gbla,mla,galb,gblb,mlb=test_trade(gala,gbla,mla,galb,gblb,mlb,parametera,parameterb,matrix,size,[1,1,1],f1,f2)\n",
    "        #gala,gbla,mla,galb,gblb,mlb=test_trade(gala,gbla,mla,galb,gblb,mlb,parametera,parameterb,matrix,size,[0,1,0],f1,f2)\n",
    "        #gala,gbla,mla,galb,gblb,mlb=test_trade(gala,gbla,mla,galb,gblb,mlb,parametera,parameterb,matrix,size,[0,0,1],f1,f2)\n",
    "    \n",
    "        \n",
    "       \n",
    "        ga2_history.append(sum(galb))\n",
    "        gb2_history.append(sum(gblb))\n",
    "        m2_history.append(sum(mlb))\n",
    "        \n",
    "\n",
    "  return ga2_history,gb2_history,m2_history"
   ]
  },
  {
   "cell_type": "code",
   "execution_count": 43,
   "metadata": {},
   "outputs": [],
   "source": [
    "def get_value(lst,sum_p,lenx):\n",
    "    sub_list=lst[-lenx:]\n",
    "    value_list=[ sum_p/x for x in sub_list]\n",
    "    return np.mean(value_list)\n",
    "    "
   ]
  },
  {
   "cell_type": "code",
   "execution_count": 44,
   "metadata": {},
   "outputs": [],
   "source": [
    "def get_vgap(length1,length2,length3,range1,f1,flow):\n",
    "    mga1,mgb1,mm1,mga2,mgb2,mm2=[],[],[],[],[],[]\n",
    "    for i in range (length3[0]):\n",
    "        ga1,gb1,m1,ga2,gb2,m2=onsager(agent_a,agent_b,length1,1,[1,1,1],f1,f1,flow)\n",
    "        mga1.append(np.mean(ga1[-range1:])/economy_size)\n",
    "        mga1.append(np.mean(ga1[-range1:])/economy_size)\n",
    "        mgb1.append(np.mean(gb1[-range1:])/economy_size)\n",
    "        mm1.append(np.mean(m1[-range1:])/economy_size)\n",
    "        mga2.append(np.mean(ga2[-range1:])/economy_size)\n",
    "        mgb2.append(np.mean(gb2[-range1:])/economy_size)\n",
    "        mm2.append(np.mean(m2[-range1:])/economy_size)\n",
    "    \n",
    "    gm1=[np.mean(mga1),np.mean(mgb1),np.mean(mm1)]\n",
    "    gm2=[np.mean(mga2),np.mean(mgb2),np.mean(mm2)]\n",
    "    print(np.mean(mga1),np.mean(mgb1),np.mean(mm1),np.mean(mga2),np.mean(mgb2),np.mean(mm2))\n",
    "    mvga,mvgb,mvm,mvga2,mvgb2,mvm2=[],[],[],[],[],[]\n",
    "    for j in range(length3[1]):\n",
    "        vga,vgb,vm=tester(agent_c,agent_a,gm1,length2,1,f1,utility_func_cd)\n",
    "        vga2,vgb2,vm2=tester(agent_c,agent_b,gm2,length2,1,f1,utility_func_cd)\n",
    "        mvga.append(get_value(vga,2000,100000))\n",
    "        mvgb.append(get_value(vgb,2000,100000))\n",
    "        mvm.append(get_value(vm,2000,100000))\n",
    "        #print(mvga,mvgb,mvm)\n",
    "        mvga2.append(get_value(vga2,2000,100000))\n",
    "        mvgb2.append(get_value(vgb2,2000,100000))\n",
    "        mvm2.append(get_value(vm2,2000,100000))\n",
    "        #print(mvga2,mvgb2,mvm2)\n",
    "        print(j)\n",
    "    print('Gap',np.mean(mvga2)-np.mean(mvga),np.mean(mvgb2)-np.mean(mvgb),np.mean(mvm2)-np.mean(mvm))\n",
    "    return np.mean(mvga2)-np.mean(mvga),np.mean(mvgb2)-np.mean(mvgb),np.mean(mvm2)-np.mean(mvm)\n",
    "        "
   ]
  },
  {
   "cell_type": "markdown",
   "metadata": {},
   "source": [
    "# Get Matrix"
   ]
  },
  {
   "cell_type": "markdown",
   "metadata": {},
   "source": [
    "## Substitute economy"
   ]
  },
  {
   "cell_type": "code",
   "execution_count": null,
   "metadata": {},
   "outputs": [],
   "source": [
    "# used mean of 40 samples. We tested it twice because of the device doesn't have enough memory"
   ]
  },
  {
   "cell_type": "code",
   "execution_count": 12,
   "metadata": {},
   "outputs": [
    {
     "name": "stdout",
     "output_type": "stream",
     "text": [
      "1.0288516466113344 2.0021390038238938 1.9996425544174705 0.9711483533886653 1.9978609961761062 2.0003574455825297\n",
      "0\n",
      "1\n",
      "2\n",
      "3\n",
      "4\n",
      "5\n",
      "6\n",
      "7\n",
      "8\n",
      "9\n",
      "10\n",
      "11\n",
      "12\n",
      "13\n",
      "14\n",
      "15\n",
      "16\n",
      "17\n",
      "18\n",
      "19\n",
      "Gap 0.07983797325483777 0.011726171271256858 0.002475508515491942\n"
     ]
    }
   ],
   "source": [
    "g11s,g21s,g31s=get_vgap([50000,100000],[50000,40000],[10,20],100000,utility_func_s,[0.03,0,0])"
   ]
  },
  {
   "cell_type": "code",
   "execution_count": 14,
   "metadata": {},
   "outputs": [
    {
     "name": "stdout",
     "output_type": "stream",
     "text": [
      "1.0001737455011575 2.0286067438753848 2.0005734063389804 0.9998262544988423 1.9713932561246152 1.9994265936610192\n",
      "0\n",
      "1\n",
      "2\n",
      "3\n",
      "4\n",
      "5\n",
      "6\n",
      "7\n",
      "8\n",
      "9\n",
      "10\n",
      "11\n",
      "12\n",
      "13\n",
      "14\n",
      "15\n",
      "16\n",
      "17\n",
      "18\n",
      "19\n",
      "Gap 0.010863483477390856 0.026493964934526604 0.0003751452294307178\n"
     ]
    }
   ],
   "source": [
    "g12s,g22s,g32s=get_vgap([50000,100000],[50000,40000],[10,20],100000,utility_func_s,[0,0.03,0])"
   ]
  },
  {
   "cell_type": "code",
   "execution_count": 17,
   "metadata": {},
   "outputs": [
    {
     "name": "stdout",
     "output_type": "stream",
     "text": [
      "1.001353232797919 2.001299880836009 2.0270609174958487 0.9986467672020811 1.9987001191639908 1.9729390825041508\n",
      "0\n",
      "1\n",
      "2\n",
      "3\n",
      "4\n",
      "5\n",
      "6\n",
      "7\n",
      "8\n",
      "9\n",
      "10\n",
      "11\n",
      "12\n",
      "13\n",
      "14\n",
      "15\n",
      "16\n",
      "17\n",
      "18\n",
      "19\n",
      "Gap 0.003160258749439926 0.002379394937397805 0.04019735087379939\n"
     ]
    }
   ],
   "source": [
    "g13s,g23s,g33s=get_vgap([50000,100000],[50000,40000],[10,20],100000,utility_func_s,[0,0,0.03])"
   ]
  },
  {
   "cell_type": "code",
   "execution_count": null,
   "metadata": {},
   "outputs": [],
   "source": [
    "# trail 2\n",
    "g11s,g21s,g31s= 0.08283834113094213,0.009560554646995456, 0.0023063047307745332\n",
    "g12s,g22s,g32s=0.010964830588907848, 0.028033828939122873, -0.0011403014406721201\n",
    "g13s,g23s,g33s=0.00048044126159796363, -0.001595905822713739, 0.042230932930533926"
   ]
  },
  {
   "cell_type": "code",
   "execution_count": 22,
   "metadata": {},
   "outputs": [
    {
     "name": "stdout",
     "output_type": "stream",
     "text": [
      "1.0313699658279147 1.997869958248447 2.0018791909839657 0.968630034172085 2.0021300417515535 1.9981208090160343\n",
      "0\n",
      "1\n",
      "2\n",
      "3\n",
      "4\n",
      "5\n",
      "6\n",
      "7\n",
      "8\n",
      "9\n",
      "10\n",
      "11\n",
      "12\n",
      "13\n",
      "14\n",
      "15\n",
      "16\n",
      "17\n",
      "18\n",
      "19\n",
      "Gap 0.08283834113094213 0.009560554646995456 0.0023063047307745332\n"
     ]
    }
   ],
   "source": [
    "g11s,g21s,g31s=get_vgap([50000,100000],[50000,40000],[10,20],100000,utility_func_s,[0.03,0,0])"
   ]
  },
  {
   "cell_type": "code",
   "execution_count": 23,
   "metadata": {},
   "outputs": [
    {
     "name": "stdout",
     "output_type": "stream",
     "text": [
      "0.9993538753820722 2.0295678887439124 1.9986433192161548 1.0006461246179277 1.9704321112560876 2.0013566807838448\n",
      "0\n",
      "1\n",
      "2\n",
      "3\n",
      "4\n",
      "5\n",
      "6\n",
      "7\n",
      "8\n",
      "9\n",
      "10\n",
      "11\n",
      "12\n",
      "13\n",
      "14\n",
      "15\n",
      "16\n",
      "17\n",
      "18\n",
      "19\n",
      "Gap 0.010964830588907848 0.028033828939122873 -0.0011403014406721201\n"
     ]
    }
   ],
   "source": [
    "g12s,g22s,g32s=get_vgap([50000,100000],[50000,40000],[10,20],100000,utility_func_s,[0,0.03,0])"
   ]
  },
  {
   "cell_type": "code",
   "execution_count": 24,
   "metadata": {},
   "outputs": [
    {
     "name": "stdout",
     "output_type": "stream",
     "text": [
      "1.0006630157405787 1.998309984158076 2.0290803608895707 0.9993369842594213 2.001690015841924 1.970919639110429\n",
      "0\n",
      "1\n",
      "2\n",
      "3\n",
      "4\n",
      "5\n",
      "6\n",
      "7\n",
      "8\n",
      "9\n",
      "10\n",
      "11\n",
      "12\n",
      "13\n",
      "14\n",
      "15\n",
      "16\n",
      "17\n",
      "18\n",
      "19\n",
      "Gap 0.00048044126159796363 -0.001595905822713739 0.042230932930533926\n"
     ]
    }
   ],
   "source": [
    "g13s,g23s,g33s=get_vgap([50000,100000],[50000,40000],[10,20],100000,utility_func_s,[0,0,0.03])"
   ]
  },
  {
   "cell_type": "markdown",
   "metadata": {},
   "source": [
    "# Results"
   ]
  },
  {
   "cell_type": "code",
   "execution_count": 1,
   "metadata": {},
   "outputs": [],
   "source": [
    "a11s,a21s,a31s= 0.07983797325483777 ,0.011726171271256858 ,0.002475508515491942\n",
    "a12s,a22s,a32s=0.010863483477390856 ,0.026493964934526604, 0.0003751452294307178\n",
    "a13s,a23s,a33s=-0.004472898690929039, 0.0005727389518912496 ,0.04524304513676114\n",
    "#g13s,g23s,g33s==0.003160258749439926 0.002379394937397805 0.04019735087379939"
   ]
  },
  {
   "cell_type": "code",
   "execution_count": 2,
   "metadata": {},
   "outputs": [],
   "source": [
    "b11s,b21s,b31s= 0.08283834113094213,0.009560554646995456, 0.0023063047307745332\n",
    "b12s,b22s,b32s=0.010964830588907848, 0.028033828939122873, -0.0011403014406721201\n",
    "b13s,b23s,b33s=0.00048044126159796363, -0.001595905822713739, 0.042230932930533926"
   ]
  },
  {
   "cell_type": "code",
   "execution_count": 3,
   "metadata": {},
   "outputs": [],
   "source": [
    "g11s,g21s,g31s= a11s+b11s,a21s+b21s, a31s+b31s\n",
    "g12s,g22s,g32s=a12s+b12s,a22s+b22s, a32s+b32s\n",
    "g13s,g23s,g33s=a13s+b13s,a23s+b23s, a33s+b33s"
   ]
  },
  {
   "cell_type": "code",
   "execution_count": null,
   "metadata": {},
   "outputs": [],
   "source": []
  },
  {
   "cell_type": "code",
   "execution_count": 4,
   "metadata": {},
   "outputs": [],
   "source": [
    "# first 20 trails\n",
    "a11c,a21c,a31c= 0.11913546955300625, -0.009905387485614536 ,0.001709460491951642\n",
    "a12c,a22c,a32c=-0.008195932880528556, 0.017341025209249294 ,0.0006806136657060424\n",
    "a13c,a23c,a33c=-0.001873079876412831 ,-9.543463564609667e-05 ,0.029029550299474627"
   ]
  },
  {
   "cell_type": "code",
   "execution_count": 5,
   "metadata": {},
   "outputs": [],
   "source": [
    "b11c,b21c,b31c= 0.12090680710557056 ,-0.012066857856328994, -0.0038580555357341506\n",
    "b12c,b22c,b32c=-0.006287921253495199, 0.02038029311578482, 0.00010455862003033722\n",
    "b13c,b23c,b33c=0.0021894132751252293, -0.0018075529007800517 ,0.02487274574507703"
   ]
  },
  {
   "cell_type": "code",
   "execution_count": 6,
   "metadata": {},
   "outputs": [],
   "source": [
    "c11c,c21c,c31c= 0.12699641691020602,-0.006078300707534123, 0.0014573028677378197\n",
    "c12c,c22c,c32c=-0.013423325272235775, 0.021032953536144205, -0.0037091026706170815\n",
    "c13c,c23c,c33c=-0.001562190395534735 ,0.0013116639868704372, 0.031174808090490336"
   ]
  },
  {
   "cell_type": "code",
   "execution_count": 7,
   "metadata": {},
   "outputs": [],
   "source": [
    "g11c,g21c,g31c = a11c+b11c+c11c, a21c+b21c+c21c, a31c+b31c+c31c\n",
    "g12c,g22c,g32c = a12c+b12c+c12c, a22c+b22c+c22c, a32c+b32c+c32c\n",
    "g13c,g23c,g33c = a13c+b13c+c13c, a23c+b23c+c23c, a33c+b33c+c33c"
   ]
  },
  {
   "cell_type": "markdown",
   "metadata": {},
   "source": [
    "## Complement Economy"
   ]
  },
  {
   "cell_type": "code",
   "execution_count": null,
   "metadata": {},
   "outputs": [],
   "source": [
    "# Used mean of 60 samples"
   ]
  },
  {
   "cell_type": "code",
   "execution_count": 13,
   "metadata": {
    "collapsed": true,
    "jupyter": {
     "outputs_hidden": true
    }
   },
   "outputs": [
    {
     "name": "stdout",
     "output_type": "stream",
     "text": [
      "1.0190792767072185 1.9996863436878898 2.001652720606587 0.9809207232927817 2.0003136563121102 1.9983472793934134\n",
      "0\n",
      "1\n",
      "2\n",
      "3\n",
      "4\n",
      "5\n",
      "6\n",
      "7\n",
      "8\n",
      "9\n",
      "10\n",
      "11\n",
      "12\n",
      "13\n",
      "14\n",
      "15\n",
      "16\n",
      "17\n",
      "18\n",
      "19\n",
      "Gap 0.11913546955300625 -0.009905387485614536 0.001709460491951642\n"
     ]
    }
   ],
   "source": [
    "g11c,g21c,g31c=get_vgap([50000,100000],[50000,40000],[10,20],100000,utility_func_c,[0.02,0,0])"
   ]
  },
  {
   "cell_type": "code",
   "execution_count": 18,
   "metadata": {
    "collapsed": true,
    "jupyter": {
     "outputs_hidden": true
    }
   },
   "outputs": [
    {
     "name": "stdout",
     "output_type": "stream",
     "text": [
      "1.0003052814747815 2.019337769589593 2.0004167621876645 0.9996947185252184 1.9806622304104067 1.999583237812335\n",
      "0\n",
      "1\n",
      "2\n",
      "3\n",
      "4\n",
      "5\n",
      "6\n",
      "7\n",
      "8\n",
      "9\n",
      "10\n",
      "11\n",
      "12\n",
      "13\n",
      "14\n",
      "15\n",
      "16\n",
      "17\n",
      "18\n",
      "19\n",
      "Gap -0.008195932880528556 0.017341025209249294 0.0006806136657060424\n"
     ]
    }
   ],
   "source": [
    "g12c,g22c,g32c=get_vgap([50000,100000],[50000,40000],[10,20],100000,utility_func_c,[0,0.02,0])\n"
   ]
  },
  {
   "cell_type": "code",
   "execution_count": 19,
   "metadata": {
    "collapsed": true,
    "jupyter": {
     "outputs_hidden": true
    }
   },
   "outputs": [
    {
     "name": "stdout",
     "output_type": "stream",
     "text": [
      "1.000031555907502 2.000909103764648 2.0192493260166495 0.9999684440924981 1.9990908962353515 1.9807506739833503\n",
      "0\n",
      "1\n",
      "2\n",
      "3\n",
      "4\n",
      "5\n",
      "6\n",
      "7\n",
      "8\n",
      "9\n",
      "10\n",
      "11\n",
      "12\n",
      "13\n",
      "14\n",
      "15\n",
      "16\n",
      "17\n",
      "18\n",
      "19\n",
      "Gap -0.001873079876412831 -9.543463564609667e-05 0.029029550299474627\n"
     ]
    }
   ],
   "source": [
    "g13c,g23c,g33c=get_vgap([50000,100000],[50000,40000],[10,20],100000,utility_func_c,[0,0,0.02])"
   ]
  },
  {
   "cell_type": "code",
   "execution_count": null,
   "metadata": {},
   "outputs": [],
   "source": []
  },
  {
   "cell_type": "code",
   "execution_count": 12,
   "metadata": {},
   "outputs": [
    {
     "name": "stdout",
     "output_type": "stream",
     "text": [
      "1.0196507099612089 1.998240575780826 1.9993080063155215 0.9803492900387912 2.0017594242191743 2.0006919936844785\n",
      "0\n",
      "1\n",
      "2\n",
      "3\n",
      "4\n",
      "5\n",
      "6\n",
      "7\n",
      "8\n",
      "9\n",
      "10\n",
      "11\n",
      "12\n",
      "13\n",
      "14\n",
      "15\n",
      "16\n",
      "17\n",
      "18\n",
      "19\n",
      "Gap 0.12090680710557056 -0.012066857856328994 -0.0038580555357341506\n"
     ]
    }
   ],
   "source": [
    "g11c,g21c,g31c=get_vgap([50000,100000],[50000,40000],[10,20],100000,utility_func_c,[0.02,0,0])"
   ]
  },
  {
   "cell_type": "code",
   "execution_count": 12,
   "metadata": {},
   "outputs": [
    {
     "name": "stdout",
     "output_type": "stream",
     "text": [
      "1.0006715214372044 2.0207226569582386 2.0010340350670868 0.9993284785627958 1.9792773430417614 1.9989659649329137\n",
      "0\n",
      "1\n",
      "2\n",
      "3\n",
      "4\n",
      "5\n",
      "6\n",
      "7\n",
      "8\n",
      "9\n",
      "10\n",
      "11\n",
      "12\n",
      "13\n",
      "14\n",
      "15\n",
      "16\n",
      "17\n",
      "18\n",
      "19\n",
      "Gap -0.006287921253495199 0.02038029311578482 0.00010455862003033722\n"
     ]
    }
   ],
   "source": [
    "g12c,g22c,g32c=get_vgap([50000,100000],[50000,40000],[10,20],100000,utility_func_c,[0,0.02,0])"
   ]
  },
  {
   "cell_type": "code",
   "execution_count": 12,
   "metadata": {},
   "outputs": [
    {
     "name": "stdout",
     "output_type": "stream",
     "text": [
      "1.0002912459136426 1.9979884077819925 2.0174039949918408 0.9997087540863575 2.0020115922180075 1.9825960050081595\n",
      "0\n",
      "1\n",
      "2\n",
      "3\n",
      "4\n",
      "5\n",
      "6\n",
      "7\n",
      "8\n",
      "9\n",
      "10\n",
      "11\n",
      "12\n",
      "13\n",
      "14\n",
      "15\n",
      "16\n",
      "17\n",
      "18\n",
      "19\n",
      "Gap 0.0021894132751252293 -0.0018075529007800517 0.02487274574507703\n"
     ]
    }
   ],
   "source": [
    "g13c,g23c,g33c=get_vgap([50000,100000],[50000,40000],[10,20],100000,utility_func_c,[0,0,0.02])"
   ]
  },
  {
   "cell_type": "code",
   "execution_count": null,
   "metadata": {},
   "outputs": [],
   "source": []
  },
  {
   "cell_type": "code",
   "execution_count": 25,
   "metadata": {},
   "outputs": [
    {
     "name": "stdout",
     "output_type": "stream",
     "text": [
      "1.0205511883938756 2.0028864642612794 2.0004123775248175 0.9794488116061247 1.9971135357387204 1.9995876224751825\n",
      "0\n",
      "1\n",
      "2\n",
      "3\n",
      "4\n",
      "5\n",
      "6\n",
      "7\n",
      "8\n",
      "9\n",
      "10\n",
      "11\n",
      "12\n",
      "13\n",
      "14\n",
      "15\n",
      "16\n",
      "17\n",
      "18\n",
      "19\n",
      "Gap 0.12699641691020602 -0.006078300707534123 0.0014573028677378197\n"
     ]
    }
   ],
   "source": [
    "g11c,g21c,g31c=get_vgap([50000,100000],[50000,40000],[10,20],100000,utility_func_c,[0.02,0,0])"
   ]
  },
  {
   "cell_type": "code",
   "execution_count": 26,
   "metadata": {},
   "outputs": [
    {
     "name": "stdout",
     "output_type": "stream",
     "text": [
      "0.9999829256936692 2.0197204876526653 1.9993655033962667 1.0000170743063308 1.9802795123473345 2.000634496603733\n",
      "0\n",
      "1\n",
      "2\n",
      "3\n",
      "4\n",
      "5\n",
      "6\n",
      "7\n",
      "8\n",
      "9\n",
      "10\n",
      "11\n",
      "12\n",
      "13\n",
      "14\n",
      "15\n",
      "16\n",
      "17\n",
      "18\n",
      "19\n",
      "Gap -0.013423325272235775 0.021032953536144205 -0.0037091026706170815\n"
     ]
    }
   ],
   "source": [
    "g12c,g22c,g32c=get_vgap([50000,100000],[50000,40000],[10,20],100000,utility_func_c,[0,0.02,0])"
   ]
  },
  {
   "cell_type": "code",
   "execution_count": 27,
   "metadata": {},
   "outputs": [
    {
     "name": "stdout",
     "output_type": "stream",
     "text": [
      "1.0001599311095908 2.001062082909259 2.020026178760734 0.9998400688904091 1.9989379170907409 1.9799738212392661\n",
      "0\n",
      "1\n",
      "2\n",
      "3\n",
      "4\n",
      "5\n",
      "6\n",
      "7\n",
      "8\n",
      "9\n",
      "10\n",
      "11\n",
      "12\n",
      "13\n",
      "14\n",
      "15\n",
      "16\n",
      "17\n",
      "18\n",
      "19\n",
      "Gap -0.001562190395534735 0.0013116639868704372 0.031174808090490336\n"
     ]
    }
   ],
   "source": [
    "g13c,g23c,g33c=get_vgap([50000,100000],[50000,40000],[10,20],100000,utility_func_c,[0,0,0.02])"
   ]
  },
  {
   "cell_type": "markdown",
   "metadata": {
    "id": "FOnGu6cAuRha"
   },
   "source": [
    "## Calculate L matrix"
   ]
  },
  {
   "cell_type": "markdown",
   "metadata": {},
   "source": [
    "## Substitute"
   ]
  },
  {
   "cell_type": "code",
   "execution_count": 10,
   "metadata": {
    "scrolled": true
   },
   "outputs": [
    {
     "name": "stdout",
     "output_type": "stream",
     "text": [
      "[[ 1.458  0.08  -0.013]\n",
      " [-0.067  2.711  0.364]\n",
      " [-0.017  0.355  0.909]]\n"
     ]
    }
   ],
   "source": [
    "matrixs=np.round(np.array([[g33s,g31s,g32s],[g13s,g11s,g12s],[g23s,g21s,g22s]])/(0.03*2),3)\n",
    "print(matrixs)"
   ]
  },
  {
   "cell_type": "markdown",
   "metadata": {},
   "source": [
    "## Complement"
   ]
  },
  {
   "cell_type": "code",
   "execution_count": 11,
   "metadata": {},
   "outputs": [
    {
     "name": "stdout",
     "output_type": "stream",
     "text": [
      "[[ 1.418 -0.012 -0.049]\n",
      " [-0.021  6.117 -0.465]\n",
      " [-0.01  -0.468  0.979]]\n"
     ]
    }
   ],
   "source": [
    "np.set_printoptions(suppress=True)\n",
    "matrixc=np.round(np.array([[g33c,g31c,g32c],[g13c,g11c,g12c],[g23c,g21c,g22c]])/(0.02*3),3)\n",
    "print(matrixc)\n"
   ]
  },
  {
   "cell_type": "code",
   "execution_count": null,
   "metadata": {},
   "outputs": [],
   "source": []
  },
  {
   "cell_type": "markdown",
   "metadata": {},
   "source": [
    "# Test Matrix"
   ]
  },
  {
   "cell_type": "code",
   "execution_count": 13,
   "metadata": {},
   "outputs": [
    {
     "name": "stdout",
     "output_type": "stream",
     "text": [
      "1.0287485166458687 2.029864510218439 2.000877312804034 0.9712514833541313 1.9701354897815608 1.9991226871959662\n",
      "0\n",
      "1\n",
      "2\n",
      "3\n",
      "4\n",
      "5\n",
      "6\n",
      "7\n",
      "8\n",
      "9\n",
      "10\n",
      "11\n",
      "12\n",
      "13\n",
      "14\n",
      "15\n",
      "16\n",
      "17\n",
      "18\n",
      "19\n",
      "Gap 0.08954899280257855 0.037079518483758234 0.0022997421392916273\n"
     ]
    }
   ],
   "source": [
    "va1s,va2s,va3s=get_vgap([50000,100000],[50000,40000],[10,20],100000,utility_func_s,[0.03,0.03,0])"
   ]
  },
  {
   "cell_type": "code",
   "execution_count": 12,
   "metadata": {},
   "outputs": [
    {
     "name": "stdout",
     "output_type": "stream",
     "text": [
      "1.0287640157905873 1.9687721921917667 1.9984282762362144 0.9712359842094129 2.031227807808233 2.0015717237637856\n",
      "0\n",
      "1\n",
      "2\n",
      "3\n",
      "4\n",
      "5\n",
      "6\n",
      "7\n",
      "8\n",
      "9\n",
      "10\n",
      "11\n",
      "12\n",
      "13\n",
      "14\n",
      "15\n",
      "16\n",
      "17\n",
      "18\n",
      "19\n",
      "Gap 0.06710928410101347 -0.017247198892621718 -0.0005002718881363943\n"
     ]
    }
   ],
   "source": [
    "vb1s,vb2s,vb3s=get_vgap([50000,100000],[50000,40000],[10,20],100000,utility_func_s,[0.03,-0.03,0])"
   ]
  },
  {
   "cell_type": "code",
   "execution_count": 26,
   "metadata": {},
   "outputs": [],
   "source": [
    "va1s,va2s,va3s=0.08954899280257855, 0.037079518483758234, 0.0022997421392916273\n",
    "vb1s,vb2s,vb3s= 0.06710928410101347, -0.017247198892621718, -0.0005002718881363943"
   ]
  },
  {
   "cell_type": "code",
   "execution_count": 29,
   "metadata": {},
   "outputs": [
    {
     "name": "stdout",
     "output_type": "stream",
     "text": [
      "delta_v [0.002 0.09  0.037] [-0.001  0.067 -0.017] theoretical delta_v [0.002 0.092 0.038] [ 0.003  0.07  -0.017]\n"
     ]
    }
   ],
   "source": [
    "mvs1=np.round(np.array([va3s,va1s,va2s]),3)\n",
    "mvs2=np.round(np.array([vb3s,vb1s,vb2s]),3)\n",
    "tmvs1=np.round(np.array(np.dot(matrixs,[0,0.03,0.03])),3)\n",
    "tmvs2=np.round(np.array(np.dot(matrixs,[0,0.03,-0.03])),3)\n",
    "print('delta_v',mvs1,mvs2,'theoretical delta_v',tmvs1,tmvs2)"
   ]
  },
  {
   "cell_type": "code",
   "execution_count": null,
   "metadata": {},
   "outputs": [],
   "source": [
    "# The complements economy used mean of 40 samples as it requires higher accuracy"
   ]
  },
  {
   "cell_type": "code",
   "execution_count": 13,
   "metadata": {},
   "outputs": [
    {
     "name": "stdout",
     "output_type": "stream",
     "text": [
      "1.019356573352196 2.0173356154168824 1.999603100845881 0.9806434266478041 1.9826643845831176 2.000396899154119\n",
      "0\n",
      "1\n",
      "2\n",
      "3\n",
      "4\n",
      "5\n",
      "6\n",
      "7\n",
      "8\n",
      "9\n",
      "10\n",
      "11\n",
      "12\n",
      "13\n",
      "14\n",
      "15\n",
      "16\n",
      "17\n",
      "18\n",
      "19\n",
      "Gap 0.11035839223111532 0.005906342345109006 -0.0018736734740205652\n"
     ]
    }
   ],
   "source": [
    "va1c,va2c,va3c=get_vgap([50000,100000],[50000,40000],[10,20],100000,utility_func_c,[0.02,0.02,0])"
   ]
  },
  {
   "cell_type": "code",
   "execution_count": 14,
   "metadata": {},
   "outputs": [
    {
     "name": "stdout",
     "output_type": "stream",
     "text": [
      "1.0198527803709483 1.9791542155048394 2.000466484322425 0.9801472196290517 2.020845784495161 1.9995335156775749\n",
      "0\n",
      "1\n",
      "2\n",
      "3\n",
      "4\n",
      "5\n",
      "6\n",
      "7\n",
      "8\n",
      "9\n",
      "10\n",
      "11\n",
      "12\n",
      "13\n",
      "14\n",
      "15\n",
      "16\n",
      "17\n",
      "18\n",
      "19\n",
      "Gap 0.135983212056205 -0.033896027108923144 0.0015274475038675739\n"
     ]
    }
   ],
   "source": [
    "vb1c,vb2c,vb3c=get_vgap([50000,100000],[50000,40000],[10,20],100000,utility_func_c,[0.02,-0.02,0])"
   ]
  },
  {
   "cell_type": "code",
   "execution_count": 15,
   "metadata": {},
   "outputs": [
    {
     "name": "stdout",
     "output_type": "stream",
     "text": [
      "1.0201083936196205 2.020234932355069 2.0000061854666518 0.9798916063803798 1.9797650676449308 1.9999938145333485\n",
      "0\n",
      "1\n",
      "2\n",
      "3\n",
      "4\n",
      "5\n",
      "6\n",
      "7\n",
      "8\n",
      "9\n",
      "10\n",
      "11\n",
      "12\n",
      "13\n",
      "14\n",
      "15\n",
      "16\n",
      "17\n",
      "18\n",
      "19\n",
      "Gap 0.11364528347871561 0.009252117699135365 -0.0023584774293099464\n"
     ]
    }
   ],
   "source": [
    "va1c2,va2c2,va3c2=get_vgap([50000,100000],[50000,40000],[10,20],100000,utility_func_c,[0.02,0.02,0])"
   ]
  },
  {
   "cell_type": "code",
   "execution_count": 45,
   "metadata": {},
   "outputs": [
    {
     "name": "stdout",
     "output_type": "stream",
     "text": [
      "1.019534547215707 1.9791542029337617 2.0006608009313487 0.980465452784293 2.0208457970662383 1.999339199068651\n",
      "0\n",
      "1\n",
      "2\n",
      "3\n",
      "4\n",
      "5\n",
      "6\n",
      "7\n",
      "8\n",
      "9\n",
      "10\n",
      "11\n",
      "12\n",
      "13\n",
      "14\n",
      "15\n",
      "16\n",
      "17\n",
      "18\n",
      "19\n",
      "Gap 0.13372436001416865 -0.030903072639884455 -0.0015178924995480347\n"
     ]
    }
   ],
   "source": [
    "vb1c2,vb2c2,vb3c2=get_vgap([50000,100000],[50000,40000],[10,20],100000,utility_func_c,[0.02,-0.02,0])"
   ]
  },
  {
   "cell_type": "code",
   "execution_count": 14,
   "metadata": {},
   "outputs": [],
   "source": [
    "va1c,va2c,va3c=0.11035839223111532, 0.005906342345109006,-0.0018736734740205652\n",
    "vb1c,vb2c,vb3c=0.135983212056205, -0.033896027108923144, 0.0015274475038675739\n",
    "va1c2,va2c2,va3c2=0.11364528347871561, 0.009252117699135365 ,-0.0023584774293099464\n",
    "vb1c2,vb2c2,vb3c2=0.13372436001416865 ,-0.030903072639884455 ,-0.0015178924995480347"
   ]
  },
  {
   "cell_type": "code",
   "execution_count": 19,
   "metadata": {},
   "outputs": [
    {
     "name": "stdout",
     "output_type": "stream",
     "text": [
      "delta_v [-0.002  0.113  0.008] [-0.001  0.134 -0.032] theoretical delta_v [-0.001  0.113  0.01 ] [ 0.001  0.132 -0.029]\n"
     ]
    }
   ],
   "source": [
    "mvc1=np.round(np.array([va3c+va3c2,va1c+va1c2,va2c+va2c2])/2,3)\n",
    "mvc2=np.round(np.array([vb3c+vb3c2,vb1c+vb1c2,vb2c+vb2c2])/2,3)\n",
    "tmvc1=np.round(np.array(np.dot(matrixc,[0,0.02,0.02])),3)\n",
    "tmvc2=np.round(np.array(np.dot(matrixc,[0,0.02,-0.02])),3)\n",
    "np.set_printoptions(suppress=True)\n",
    "print('delta_v',mvc1,mvc2,'theoretical delta_v',tmvc1,tmvc2)"
   ]
  },
  {
   "cell_type": "code",
   "execution_count": null,
   "metadata": {},
   "outputs": [],
   "source": []
  }
 ],
 "metadata": {
  "accelerator": "GPU",
  "colab": {
   "authorship_tag": "ABX9TyNdifWY8+xIvGI5uuqFwAxB",
   "provenance": []
  },
  "kernelspec": {
   "display_name": "Python 3 (ipykernel)",
   "language": "python",
   "name": "python3"
  },
  "language_info": {
   "codemirror_mode": {
    "name": "ipython",
    "version": 3
   },
   "file_extension": ".py",
   "mimetype": "text/x-python",
   "name": "python",
   "nbconvert_exporter": "python",
   "pygments_lexer": "ipython3",
   "version": "3.12.4"
  }
 },
 "nbformat": 4,
 "nbformat_minor": 4
}
