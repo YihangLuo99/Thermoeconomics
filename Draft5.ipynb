{
 "cells": [
  {
   "cell_type": "markdown",
   "metadata": {
    "id": "-V8UhE-70CdP"
   },
   "source": [
    "# Define the agents"
   ]
  },
  {
   "cell_type": "code",
   "execution_count": 35,
   "metadata": {},
   "outputs": [],
   "source": [
    "import random\n",
    "import math\n",
    "from numpy.core.shape_base import atleast_2d\n",
    "import numpy as np\n",
    "import pandas as pd\n",
    "import matplotlib.ticker as ticker\n",
    "import matplotlib.pyplot as plt\n",
    "\n",
    "\n",
    "import matplotlib.pyplot as plt\n",
    "from matplotlib.patches import FancyBboxPatch\n",
    "\n"
   ]
  },
  {
   "cell_type": "code",
   "execution_count": 36,
   "metadata": {},
   "outputs": [],
   "source": [
    "# Import functions in the function file\n",
    "\n",
    "%run trade_functions.ipynb\n"
   ]
  },
  {
   "cell_type": "markdown",
   "metadata": {
    "id": "cmZHW3O9kNsd"
   },
   "source": [
    "## define encounter matrix"
   ]
  },
  {
   "cell_type": "code",
   "execution_count": 37,
   "metadata": {},
   "outputs": [],
   "source": [
    "economy_size=1000"
   ]
  },
  {
   "cell_type": "code",
   "execution_count": null,
   "metadata": {},
   "outputs": [],
   "source": []
  },
  {
   "cell_type": "code",
   "execution_count": 38,
   "metadata": {
    "id": "mRjMUeMtrfSI"
   },
   "outputs": [],
   "source": [
    "import numpy as np\n",
    "\n",
    "# Create a 100x100 matrix filled with 1s\n",
    "matrix = np.ones((economy_size, economy_size))\n",
    "\n",
    "# And  Set the diagonal elements to 0\n",
    "np.fill_diagonal(matrix, 0)\n"
   ]
  },
  {
   "cell_type": "markdown",
   "metadata": {
    "id": "ywkZ4NJw0mgV"
   },
   "source": [
    "## Define Economy A"
   ]
  },
  {
   "cell_type": "code",
   "execution_count": 39,
   "metadata": {},
   "outputs": [],
   "source": [
    "agent_a = create_agent()\n",
    "agent_a['id_list'] = [i for i in range(economy_size)]\n",
    "agent_a['parameter']=[[3,3,3] for _ in range(economy_size)]\n",
    "agent_a['money']=[2 for _ in range(economy_size)]\n",
    "agent_a['gooda']=[1 for _ in range(economy_size)]\n",
    "agent_a['goodb']=[2 for _ in range(economy_size)]\n",
    "agent_a['intra_connections']=matrix\n",
    "agent_a['inter_connections']=matrix"
   ]
  },
  {
   "cell_type": "markdown",
   "metadata": {},
   "source": [
    "# Define Economy B"
   ]
  },
  {
   "cell_type": "code",
   "execution_count": 40,
   "metadata": {
    "id": "bCiVZKyXqoec"
   },
   "outputs": [],
   "source": [
    "agent_b = create_agent()\n",
    "agent_b['id_list'] = [i for i in range(economy_size)]\n",
    "agent_b['parameter']=[[3,3,3] for _ in range(economy_size)]\n",
    "agent_b['money']=[2 for _ in range(economy_size)]\n",
    "agent_b['gooda']=[1 for _ in range(economy_size)]\n",
    "agent_b['goodb']=[2 for _ in range(economy_size)]\n",
    "agent_b['intra_connections']=matrix\n",
    "agent_b['inter_connections']=matrix\n"
   ]
  },
  {
   "cell_type": "code",
   "execution_count": 41,
   "metadata": {},
   "outputs": [],
   "source": [
    "agent_c = create_agent()\n",
    "agent_c['id_list'] = [i for i in range(economy_size)]\n",
    "agent_c['parameter']=[[2,2,2] for _ in range(economy_size)]\n",
    "agent_c['money']=[2 for _ in range(economy_size)]\n",
    "agent_c['gooda']=[1 for _ in range(economy_size)]\n",
    "agent_c['goodb']=[2 for _ in range(economy_size)]\n",
    "\n",
    "agent_c['constant']=[1 for _ in range(economy_size)]\n",
    "agent_c['intra_connections']=matrix\n",
    "agent_c['inter_connections']=matrix"
   ]
  },
  {
   "cell_type": "markdown",
   "metadata": {
    "id": "Bx-E0hMle498"
   },
   "source": [
    "#Defne  inhomogeneous economy"
   ]
  },
  {
   "cell_type": "code",
   "execution_count": 42,
   "metadata": {
    "id": "TU0iDuAssZVP"
   },
   "outputs": [],
   "source": [
    "def utility_func_cd(ga,gb,m,parameter):\n",
    "  a=m**(parameter[0]-1)\n",
    "\n",
    "  b=ga**(parameter[1]-1)\n",
    "\n",
    "  c=gb**(parameter[2]-1)\n",
    "\n",
    "  utility=a*b*c\n",
    "  utility=float(utility)\n",
    "  return utility"
   ]
  },
  {
   "cell_type": "code",
   "execution_count": 43,
   "metadata": {},
   "outputs": [],
   "source": [
    "def utility_func_s(ga,gb,m,parameter):\n",
    "  a=m**(parameter[0]-1)\n",
    "\n",
    "  b=ga**(parameter[1]-1)\n",
    "\n",
    "  c=gb**(parameter[2]-1)\n",
    "\n",
    "  utility=a*(b+c)\n",
    "  utility=float(utility)\n",
    "  return utility"
   ]
  },
  {
   "cell_type": "code",
   "execution_count": 44,
   "metadata": {},
   "outputs": [],
   "source": [
    "def utility_func_c(ga,gb,m,parameter):\n",
    "  a=m**(parameter[0]-1)\n",
    "\n",
    "  \n",
    "\n",
    "  \n",
    "\n",
    "  utility=a*(min(ga,gb)**(parameter[1]-1))\n",
    "  utility=float(utility)\n",
    "  return utility"
   ]
  },
  {
   "cell_type": "markdown",
   "metadata": {
    "id": "pDybr3ZBFmHv"
   },
   "source": [
    "## trade function"
   ]
  },
  {
   "cell_type": "code",
   "execution_count": 45,
   "metadata": {
    "id": "GUKFazXPcy2q"
   },
   "outputs": [],
   "source": [
    "import random\n",
    "\n",
    "def encounter1(matrix):\n",
    "    # Pick a random row\n",
    "    row = random.choice(range(len(matrix)))\n",
    "\n",
    "    # Pick a random column different from the row\n",
    "    possible_cols = [i for i in range(len(matrix[0])) if i != row]\n",
    "    col = random.choice(possible_cols)\n",
    "\n",
    "    return row, col\n",
    "\n",
    "\n",
    "\n",
    "\n",
    "\n"
   ]
  },
  {
   "cell_type": "markdown",
   "metadata": {
    "id": "iNNWeIBYuPRx"
   },
   "source": [
    "# metropolis"
   ]
  },
  {
   "cell_type": "code",
   "execution_count": 30,
   "metadata": {},
   "outputs": [],
   "source": [
    "def onsager(agent1,agent2,length,size,t,f1,f2,flow):\n",
    "  \n",
    "  mla=agent1['money'].copy()\n",
    "  gala=agent1['gooda'].copy()\n",
    "  gbla=agent1['goodb'].copy()\n",
    "  parametera=agent1['parameter'].copy()\n",
    "    \n",
    "  mlb=agent2['money'].copy()\n",
    "  galb=agent2['gooda'].copy()\n",
    "  gblb=agent2['goodb'].copy()\n",
    "  parameterb=agent2['parameter'].copy()\n",
    "  sum_etaa = sum(sublist[2] for sublist in parametera)\n",
    "  sum_etab= sum(sublist[2] for sublist in parameterb)\n",
    "\n",
    " \n",
    "\n",
    "  \n",
    "  \n",
    "  ga1_history=[]\n",
    "  gb1_history=[]\n",
    "  m1_history=[] \n",
    "  ga2_history=[]\n",
    "  gb2_history=[]\n",
    "  m2_history=[] \n",
    "  for i in range(length[0]):\n",
    "    \n",
    "    gala,gbla,mla=intra_trade(gala,gbla,mla,parametera,matrix,1,f1,f1)\n",
    "    \n",
    "    \n",
    "    galb,gblb,mlb=intra_trade(galb,gblb,mlb,parameterb,matrix,1,f1,f2)\n",
    "    \n",
    "\n",
    "    \n",
    "  \n",
    " \n",
    "      \n",
    "    \n",
    "    \n",
    "  \n",
    "    \n",
    "\n",
    "\n",
    "    \n",
    "  for j in range(length[1]):\n",
    "    \n",
    "    gala,gbla,mla=intra_trade(gala,gbla,mla,parametera,matrix,1,f1,f2)\n",
    "    gala,gbla,mla=direct_trade(gala,gbla,mla, 1, flow)\n",
    "  \n",
    "    \n",
    "    galb,gblb,mlb=intra_trade(galb,gblb,mlb,parameterb,matrix,1,f1,f2)\n",
    "    galb,gblb,mlb=direct_trade(galb,gblb,mlb, -1, flow)\n",
    "  \n",
    "    \n",
    "    gala,gbla,mla,galb,gblb,mlb=inter_trade(gala,gbla,mla,galb,gblb,mlb,parametera,parameterb,matrix,size,t,f1,f2)\n",
    "\n",
    "      \n",
    "    ga1_history.append(sum(gala))\n",
    "    gb1_history.append(sum(gbla))\n",
    "    m1_history.append(sum(mla))\n",
    "    ga2_history.append(sum(galb))\n",
    "    gb2_history.append(sum(gblb))\n",
    "    m2_history.append(sum(mlb))\n",
    "   \n",
    "\n",
    "  return ga1_history,gb1_history,m1_history,ga2_history,gb2_history,m2_history\n",
    "\n",
    "\n",
    "\n"
   ]
  },
  {
   "cell_type": "code",
   "execution_count": 31,
   "metadata": {},
   "outputs": [],
   "source": [
    "def tester(agent1,agent2,gm,length,size,f1,f2):\n",
    "  \n",
    "  \n",
    "  mla=[gm[2]]*economy_size\n",
    "  gala=[gm[0]]*economy_size\n",
    "  gbla=[gm[1]]*economy_size\n",
    "  \n",
    "  parametera=agent2['parameter'].copy()\n",
    "    \n",
    "  mlb=agent1['money'].copy()\n",
    "  galb=agent1['gooda'].copy()\n",
    "  gblb=agent1['goodb'].copy()\n",
    "  constant=agent1['constant'].copy()\n",
    "  parameterb=agent1['parameter'].copy()\n",
    "  sum_eta=np.sum(agent1['parameter'][2])\n",
    "  sum_alpha1=np.sum(agent1['parameter'][0])\n",
    "  sum_alpha2=np.sum(agent1['parameter'][1])\n",
    " \n",
    "\n",
    "  \n",
    "\n",
    "  ga2_history=[]\n",
    "  gb2_history=[]\n",
    "  m2_history=[] \n",
    "\n",
    "  for i in range(length[0]):\n",
    "    \n",
    "    gala,gbla,mla=intra_trade(gala,gbla,mla,parametera,matrix,1,f1,f2)\n",
    "        \n",
    "      \n",
    "        \n",
    "    galb,gblb,mlb=intra_trade(galb,gblb,mlb,parameterb,matrix,1,f1,f2)\n",
    "    \n",
    "  \n",
    "    \n",
    "    gala,gbla,mla,galb,gblb,mlb=test_trade(gala,gbla,mla,galb,gblb,mlb,parametera,parameterb,matrix,1,[1,0,0],f1,f2)\n",
    "    gala,gbla,mla,galb,gblb,mlb=test_trade(gala,gbla,mla,galb,gblb,mlb,parametera,parameterb,matrix,1,[0,1,0],f1,f2)\n",
    "    gala,gbla,mla,galb,gblb,mlb=test_trade(gala,gbla,mla,galb,gblb,mlb,parametera,parameterb,matrix,1,[0,0,1],f1,f2)\n",
    "    \n",
    "\n",
    "    \n",
    "  \n",
    " \n",
    "      \n",
    "    \n",
    "    \n",
    "  \n",
    "    \n",
    "\n",
    "  for k in range (8):\n",
    "      size=size*0.7\n",
    "    \n",
    "      for j in range(length[1]):\n",
    "        \n",
    "        gala,gbla,mla=intra_trade(gala,gbla,mla,parametera,matrix,1,f1,f2)\n",
    "        \n",
    "      \n",
    "        \n",
    "        galb,gblb,mlb=intra_trade(galb,gblb,mlb,parameterb,matrix,1,f1,f2)\n",
    "        \n",
    "      \n",
    "        \n",
    "        gala,gbla,mla,galb,gblb,mlb=test_trade(gala,gbla,mla,galb,gblb,mlb,parametera,parameterb,matrix,size,[1,0,0],f1,f2)\n",
    "        gala,gbla,mla,galb,gblb,mlb=test_trade(gala,gbla,mla,galb,gblb,mlb,parametera,parameterb,matrix,size,[0,1,0],f1,f2)\n",
    "        gala,gbla,mla,galb,gblb,mlb=test_trade(gala,gbla,mla,galb,gblb,mlb,parametera,parameterb,matrix,size,[0,0,1],f1,f2)\n",
    "    \n",
    "        \n",
    "       \n",
    "        ga2_history.append(sum(galb))\n",
    "        gb2_history.append(sum(gblb))\n",
    "        m2_history.append(sum(mlb))\n",
    "        \n",
    "\n",
    "  return ga2_history,gb2_history,m2_history"
   ]
  },
  {
   "cell_type": "code",
   "execution_count": 32,
   "metadata": {},
   "outputs": [],
   "source": [
    "def get_value(lst,sum_p,lenx):\n",
    "    sub_list=lst[-lenx:]\n",
    "    value_list=[ sum_p/x for x in sub_list]\n",
    "    return np.mean(value_list)\n",
    "    "
   ]
  },
  {
   "cell_type": "code",
   "execution_count": 33,
   "metadata": {},
   "outputs": [],
   "source": [
    "def get_vgap(length1,length2,length3,range1,f1,flow):\n",
    "    mga1,mgb1,mm1,mga2,mgb2,mm2=[],[],[],[],[],[]\n",
    "    for i in range (length3):\n",
    "        ga1,gb1,m1,ga2,gb2,m2=onsager(agent_a,agent_b,length1,1,[1,1,1],f1,f1,flow)\n",
    "        mga1.append(np.mean(ga1[-range1:])/economy_size)\n",
    "        mga1.append(np.mean(ga1[-range1:])/economy_size)\n",
    "        mgb1.append(np.mean(gb1[-range1:])/economy_size)\n",
    "        mm1.append(np.mean(m1[-range1:])/economy_size)\n",
    "        mga2.append(np.mean(ga2[-range1:])/economy_size)\n",
    "        mgb2.append(np.mean(gb2[-range1:])/economy_size)\n",
    "        mm2.append(np.mean(m2[-range1:])/economy_size)\n",
    "    \n",
    "    gm1=[np.mean(mga1),np.mean(mgb1),np.mean(mm1)]\n",
    "    gm2=[np.mean(mga2),np.mean(mgb2),np.mean(mm2)]\n",
    "    print(np.mean(mga1),np.mean(mgb1),np.mean(mm1),np.mean(mga2),np.mean(mgb2),np.mean(mm2))\n",
    "    mvga,mvgb,mvm,mvga2,mvgb2,mvm2=[],[],[],[],[],[]\n",
    "    for j in range(length3):\n",
    "        vga,vgb,vm=tester(agent_c,agent_a,gm1,length2,1,f1,utility_func_cd)\n",
    "        vga2,vgb2,vm2=tester(agent_c,agent_b,gm2,length2,1,f1,utility_func_cd)\n",
    "        mvga.append(get_value(vga,2000,10000))\n",
    "        mvgb.append(get_value(vgb,2000,10000))\n",
    "        mvm.append(get_value(vm,2000,10000))\n",
    "        print(mvga,mvgb,mvm)\n",
    "        mvga2.append(get_value(vga2,2000,10000))\n",
    "        mvgb2.append(get_value(vgb2,2000,10000))\n",
    "        mvm2.append(get_value(vm2,2000,10000))\n",
    "        print(mvga2,mvgb2,mvm2)\n",
    "    print('Gap',np.mean(mvga2)-np.mean(mvga),np.mean(mvgb2)-np.mean(mvgb),np.mean(mvm2)-np.mean(mvm))\n",
    "    return np.mean(mvga2)-np.mean(mvga),np.mean(mvgb2)-np.mean(mvgb),np.mean(mvm2)-np.mean(mvm)\n",
    "        "
   ]
  },
  {
   "cell_type": "markdown",
   "metadata": {},
   "source": [
    "## Substitute economy"
   ]
  },
  {
   "cell_type": "code",
   "execution_count": 34,
   "metadata": {
    "collapsed": true,
    "jupyter": {
     "outputs_hidden": true
    }
   },
   "outputs": [
    {
     "name": "stdout",
     "output_type": "stream",
     "text": [
      "1.2011364641179016 1.9971199292512352 2.0045816984711964 0.7988635358820991 2.002880070748765 1.9954183015288032\n",
      "[1.3617067036666568] [1.0897243613769863] [1.5155262639824005]\n",
      "[1.8199282244093982] [1.1976472275605927] [1.4949783690604752]\n",
      "[1.3617067036666568, 1.3624585898033654] [1.0897243613769863, 1.0916819299420548] [1.5155262639824005, 1.4995612461581007]\n",
      "[1.8199282244093982, 1.8364628467912247] [1.1976472275605927, 1.194224512098863] [1.4949783690604752, 1.4986633521833337]\n",
      "[1.3617067036666568, 1.3624585898033654, 1.3632522746685334] [1.0897243613769863, 1.0916819299420548, 1.0917458730945717] [1.5155262639824005, 1.4995612461581007, 1.5007286819132881]\n",
      "[1.8199282244093982, 1.8364628467912247, 1.8216068543411905] [1.1976472275605927, 1.194224512098863, 1.1905637813022227] [1.4949783690604752, 1.4986633521833337, 1.4921551022017554]\n",
      "[1.3617067036666568, 1.3624585898033654, 1.3632522746685334, 1.373030555434043] [1.0897243613769863, 1.0916819299420548, 1.0917458730945717, 1.0811319128950427] [1.5155262639824005, 1.4995612461581007, 1.5007286819132881, 1.5108895804637592]\n",
      "[1.8199282244093982, 1.8364628467912247, 1.8216068543411905, 1.8234570621489763] [1.1976472275605927, 1.194224512098863, 1.1905637813022227, 1.2035419074404017] [1.4949783690604752, 1.4986633521833337, 1.4921551022017554, 1.4788560520180734]\n",
      "[1.3617067036666568, 1.3624585898033654, 1.3632522746685334, 1.373030555434043, 1.3711791119637895] [1.0897243613769863, 1.0916819299420548, 1.0917458730945717, 1.0811319128950427, 1.096670229582464] [1.5155262639824005, 1.4995612461581007, 1.5007286819132881, 1.5108895804637592, 1.489342370833364]\n",
      "[1.8199282244093982, 1.8364628467912247, 1.8216068543411905, 1.8234570621489763, 1.8170835629311948] [1.1976472275605927, 1.194224512098863, 1.1905637813022227, 1.2035419074404017, 1.189610625430808] [1.4949783690604752, 1.4986633521833337, 1.4921551022017554, 1.4788560520180734, 1.4897322700686233]\n",
      "Gap 0.45738226301711915 0.10492674938835389 -0.012332599563730007\n"
     ]
    }
   ],
   "source": [
    "g12,g22,g32=get_vgap([10000,90000],[20000,20000],5,90000,utility_func_s,[0.2,0,0])"
   ]
  },
  {
   "cell_type": "code",
   "execution_count": 47,
   "metadata": {},
   "outputs": [
    {
     "name": "stdout",
     "output_type": "stream",
     "text": [
      "0.9982349142684319 2.201922959598366 1.9965927883517285 1.0017650857315683 1.798077040401635 2.003407211648272\n",
      "[1.5204861484033443] [1.0579320313652527] [1.5055799994796173]\n",
      "[1.590433118567283] [1.2343367894981454] [1.5067638382530784]\n",
      "[1.5204861484033443, 1.4972612096695253] [1.0579320313652527, 1.056820731364928] [1.5055799994796173, 1.4835244349413579]\n",
      "[1.590433118567283, 1.5863616558292186] [1.2343367894981454, 1.2415102204754753] [1.5067638382530784, 1.4873702643711528]\n",
      "[1.5204861484033443, 1.4972612096695253, 1.4972925779115553] [1.0579320313652527, 1.056820731364928, 1.0571484847953492] [1.5055799994796173, 1.4835244349413579, 1.507111309180378]\n",
      "[1.590433118567283, 1.5863616558292186, 1.6167897244106268] [1.2343367894981454, 1.2415102204754753, 1.2354366811788358] [1.5067638382530784, 1.4873702643711528, 1.5004498995643423]\n",
      "[1.5204861484033443, 1.4972612096695253, 1.4972925779115553, 1.5103866627524742] [1.0579320313652527, 1.056820731364928, 1.0571484847953492, 1.0647625209057061] [1.5055799994796173, 1.4835244349413579, 1.507111309180378, 1.4959460032626188]\n",
      "[1.590433118567283, 1.5863616558292186, 1.6167897244106268, 1.6076393136859344] [1.2343367894981454, 1.2415102204754753, 1.2354366811788358, 1.2371136331556278] [1.5067638382530784, 1.4873702643711528, 1.5004498995643423, 1.4907210243005296]\n",
      "[1.5204861484033443, 1.4972612096695253, 1.4972925779115553, 1.5103866627524742, 1.5105249743095033] [1.0579320313652527, 1.056820731364928, 1.0571484847953492, 1.0647625209057061, 1.05246587880666] [1.5055799994796173, 1.4835244349413579, 1.507111309180378, 1.4959460032626188, 1.4909929725610545]\n",
      "[1.590433118567283, 1.5863616558292186, 1.6167897244106268, 1.6076393136859344, 1.584406003051146] [1.2343367894981454, 1.2415102204754753, 1.2354366811788358, 1.2371136331556278, 1.2315202187794025] [1.5067638382530784, 1.4873702643711528, 1.5004498995643423, 1.4907210243005296, 1.4924298729979353]\n",
      "Gap 0.08993564849956126 0.17815757916991815 -0.0010839639875976914\n"
     ]
    }
   ],
   "source": [
    "g12,g22,g32=get_vgap([10000,90000],[20000,20000],5,90000,utility_func_s,[0,0.2,0])"
   ]
  },
  {
   "cell_type": "code",
   "execution_count": 48,
   "metadata": {},
   "outputs": [
    {
     "name": "stdout",
     "output_type": "stream",
     "text": [
      "0.9990078771522626 2.000418415801845 2.197767486593158 1.0009921228477374 1.999581584198155 1.8022325134068435\n",
      "[1.542972730069829] [1.1371065517915633] [1.3641666262790815]\n",
      "[1.5459268291743236] [1.1460380984518501] [1.664759902503423]\n",
      "[1.542972730069829, 1.553479012380897] [1.1371065517915633, 1.1300225867485152] [1.3641666262790815, 1.3661755733192797]\n",
      "[1.5459268291743236, 1.5559199743405563] [1.1460380984518501, 1.1342516992858414] [1.664759902503423, 1.6702736035054158]\n",
      "[1.542972730069829, 1.553479012380897, 1.5535088657141551] [1.1371065517915633, 1.1300225867485152, 1.130301768542614] [1.3641666262790815, 1.3661755733192797, 1.3663927509007645]\n",
      "[1.5459268291743236, 1.5559199743405563, 1.5560088051021228] [1.1460380984518501, 1.1342516992858414, 1.1299769446175352] [1.664759902503423, 1.6702736035054158, 1.6656546188890418]\n",
      "[1.542972730069829, 1.553479012380897, 1.5535088657141551, 1.5484847793091436] [1.1371065517915633, 1.1300225867485152, 1.130301768542614, 1.1381668923162598] [1.3641666262790815, 1.3661755733192797, 1.3663927509007645, 1.3840501564858254]\n",
      "[1.5459268291743236, 1.5559199743405563, 1.5560088051021228, 1.5524292837531786] [1.1460380984518501, 1.1342516992858414, 1.1299769446175352, 1.1348043899676654] [1.664759902503423, 1.6702736035054158, 1.6656546188890418, 1.6580694883065843]\n",
      "[1.542972730069829, 1.553479012380897, 1.5535088657141551, 1.5484847793091436, 1.555180023044263] [1.1371065517915633, 1.1300225867485152, 1.130301768542614, 1.1381668923162598, 1.1376267366938206] [1.3641666262790815, 1.3661755733192797, 1.3663927509007645, 1.3840501564858254, 1.3577789367578983]\n",
      "[1.5459268291743236, 1.5559199743405563, 1.5560088051021228, 1.5524292837531786, 1.5604794520102736] [1.1460380984518501, 1.1342516992858414, 1.1299769446175352, 1.1348043899676654, 1.1394362944861167] [1.664759902503423, 1.6702736035054158, 1.6656546188890418, 1.6580694883065843, 1.671069493329346]\n",
      "Gap 0.0034277867724332722 0.00225657814324709 0.29825261255819235\n"
     ]
    }
   ],
   "source": [
    "g13,g23,g33=get_vgap([10000,90000],[20000,20000],5,90000,utility_func_s,[0,0,0.2])"
   ]
  },
  {
   "cell_type": "markdown",
   "metadata": {},
   "source": [
    "## Complement Economy"
   ]
  },
  {
   "cell_type": "code",
   "execution_count": 49,
   "metadata": {},
   "outputs": [
    {
     "name": "stdout",
     "output_type": "stream",
     "text": [
      "1.1962277497294411 1.9975695164625784 1.9993981478748801 0.8037722502705593 2.0024304835374216 2.00060185212512\n",
      "[1.9803693355619576] [0.7671497840855633] [1.4899441706969239]\n",
      "[3.207224198951686] [0.6687082019054024] [1.5097824474030952]\n",
      "[1.9803693355619576, 1.987525547482522] [0.7671497840855633, 0.7641719262659129] [1.4899441706969239, 1.4839999836191176]\n",
      "[3.207224198951686, 3.223224137419082] [0.6687082019054024, 0.6613329108294358] [1.5097824474030952, 1.5024900800918017]\n",
      "[1.9803693355619576, 1.987525547482522, 2.000603128660723] [0.7671497840855633, 0.7641719262659129, 0.7675014756379195] [1.4899441706969239, 1.4839999836191176, 1.4901984185465134]\n",
      "[3.207224198951686, 3.223224137419082, 3.2114320366769205] [0.6687082019054024, 0.6613329108294358, 0.6640634514314115] [1.5097824474030952, 1.5024900800918017, 1.4940630480752828]\n",
      "[1.9803693355619576, 1.987525547482522, 2.000603128660723, 1.9941009130429237] [0.7671497840855633, 0.7641719262659129, 0.7675014756379195, 0.761644071167716] [1.4899441706969239, 1.4839999836191176, 1.4901984185465134, 1.4963310725375698]\n",
      "[3.207224198951686, 3.223224137419082, 3.2114320366769205, 3.2227796291521087] [0.6687082019054024, 0.6613329108294358, 0.6640634514314115, 0.6676515186947399] [1.5097824474030952, 1.5024900800918017, 1.4940630480752828, 1.484428642901404]\n",
      "[1.9803693355619576, 1.987525547482522, 2.000603128660723, 1.9941009130429237, 1.970236109095552] [0.7671497840855633, 0.7641719262659129, 0.7675014756379195, 0.761644071167716, 0.7616163455490376] [1.4899441706969239, 1.4839999836191176, 1.4901984185465134, 1.4963310725375698, 1.4949927265258982]\n",
      "[3.207224198951686, 3.223224137419082, 3.2114320366769205, 3.2227796291521087, 3.258074897447519] [0.6687082019054024, 0.6613329108294358, 0.6640634514314115, 0.6676515186947399, 0.6652442557364865] [1.5097824474030952, 1.5024900800918017, 1.4940630480752828, 1.484428642901404, 1.5117769027576136]\n",
      "Gap 1.2379799731607277 -0.09901665282173466 0.009414949860635069\n"
     ]
    }
   ],
   "source": [
    "g11c,g21c,g31c=get_vgap([10000,90000],[20000,20000],5,90000,utility_func_c,[0.2,0,0])"
   ]
  },
  {
   "cell_type": "code",
   "execution_count": 50,
   "metadata": {},
   "outputs": [
    {
     "name": "stdout",
     "output_type": "stream",
     "text": [
      "1.0000383621609614 2.1960857134792677 2.001140985119064 0.9999616378390386 1.8039142865207336 1.9988590148809362\n",
      "[2.5432826844173766] [0.6308957850171164] [1.508005953757474]\n",
      "[2.4239286782279295] [0.824898779055041] [1.499116497640796]\n",
      "[2.5432826844173766, 2.5513781496009753] [0.6308957850171164, 0.6259759812725054] [1.508005953757474, 1.5038303693494517]\n",
      "[2.4239286782279295, 2.4339748472960934] [0.824898779055041, 0.8356069299000582] [1.499116497640796, 1.4960890688584496]\n",
      "[2.5432826844173766, 2.5513781496009753, 2.535769331055475] [0.6308957850171164, 0.6259759812725054, 0.619239444225975] [1.508005953757474, 1.5038303693494517, 1.5007987300605563]\n",
      "[2.4239286782279295, 2.4339748472960934, 2.424586505565351] [0.824898779055041, 0.8356069299000582, 0.8215777151116221] [1.499116497640796, 1.4960890688584496, 1.5118250484729645]\n",
      "[2.5432826844173766, 2.5513781496009753, 2.535769331055475, 2.5629574464626503] [0.6308957850171164, 0.6259759812725054, 0.619239444225975, 0.6246184652387474] [1.508005953757474, 1.5038303693494517, 1.5007987300605563, 1.4946535907287266]\n",
      "[2.4239286782279295, 2.4339748472960934, 2.424586505565351, 2.45968227164663] [0.824898779055041, 0.8356069299000582, 0.8215777151116221, 0.8264420227789373] [1.499116497640796, 1.4960890688584496, 1.5118250484729645, 1.511521640711253]\n",
      "[2.5432826844173766, 2.5513781496009753, 2.535769331055475, 2.5629574464626503, 2.5325116168149417] [0.6308957850171164, 0.6259759812725054, 0.619239444225975, 0.6246184652387474, 0.6381078881180426] [1.508005953757474, 1.5038303693494517, 1.5007987300605563, 1.4946535907287266, 1.486638892064367]\n",
      "[2.4239286782279295, 2.4339748472960934, 2.424586505565351, 2.45968227164663, 2.432969145617177] [0.824898779055041, 0.8356069299000582, 0.8215777151116221, 0.8264420227789373, 0.8226639973153642] [1.499116497640796, 1.4960890688584496, 1.5118250484729645, 1.511521640711253, 1.5153223449857975]\n",
      "Gap -0.11015155599964821 0.19847037605772722 0.00798941294173705\n"
     ]
    }
   ],
   "source": [
    "g12c,g22c,g32c=get_vgap([10000,90000],[20000,20000],5,90000,utility_func_c,[0,0.2,0])\n"
   ]
  },
  {
   "cell_type": "markdown",
   "metadata": {},
   "source": [
    "\n",
    "Gap 1.2379799731607277 -0.09901665282173466 0.009414949860635069\n",
    "Gap -0.11015155599964821 0.19847037605772722 0.00798941294173705\n",
    "Gap -0.01663484211594346 -0.002696506245851049 0.2992208639674707"
   ]
  },
  {
   "cell_type": "code",
   "execution_count": 52,
   "metadata": {},
   "outputs": [
    {
     "name": "stdout",
     "output_type": "stream",
     "text": [
      "0.9989949548485642 1.99911589255363 2.1960890551202787 1.0010050451514356 2.00088410744637 1.803910944879723\n",
      "[2.492315128939205] [0.7157710965702] [1.370506323677323]\n",
      "[2.480094470388574] [0.7103527488810906] [1.6481110178081053]\n",
      "[2.492315128939205, 2.4852091637156453] [0.7157710965702, 0.7212951270799112] [1.370506323677323, 1.3519044700812355]\n",
      "[2.480094470388574, 2.492072665094125] [0.7103527488810906, 0.7109911221552404] [1.6481110178081053, 1.670078297742214]\n",
      "[2.492315128939205, 2.4852091637156453, 2.4939136338189862] [0.7157710965702, 0.7212951270799112, 0.7071704992120202] [1.370506323677323, 1.3519044700812355, 1.3718018717878353]\n",
      "[2.480094470388574, 2.492072665094125, 2.4795069743828977] [0.7103527488810906, 0.7109911221552404, 0.7137847290731577] [1.6481110178081053, 1.670078297742214, 1.6644201913842809]\n",
      "[2.492315128939205, 2.4852091637156453, 2.4939136338189862, 2.5193089971532956] [0.7157710965702, 0.7212951270799112, 0.7071704992120202, 0.7153060930870738] [1.370506323677323, 1.3519044700812355, 1.3718018717878353, 1.3754537625464982]\n",
      "[2.480094470388574, 2.492072665094125, 2.4795069743828977, 2.4853942713150405] [0.7103527488810906, 0.7109911221552404, 0.7137847290731577, 0.7087086273934136] [1.6481110178081053, 1.670078297742214, 1.6644201913842809, 1.6684533527593755]\n",
      "[2.492315128939205, 2.4852091637156453, 2.4939136338189862, 2.5193089971532956, 2.4844550523214424] [0.7157710965702, 0.7212951270799112, 0.7071704992120202, 0.7153060930870738, 0.710913478840498] [1.370506323677323, 1.3519044700812355, 1.3718018717878353, 1.3754537625464982, 1.3614734868525495]\n",
      "[2.480094470388574, 2.492072665094125, 2.4795069743828977, 2.4853942713150405, 2.454959384188219] [0.7103527488810906, 0.7109911221552404, 0.7137847290731577, 0.7087086273934136, 0.7131365360575459] [1.6481110178081053, 1.670078297742214, 1.6644201913842809, 1.6684533527593755, 1.6761813750888184]\n",
      "Gap -0.01663484211594346 -0.002696506245851049 0.2992208639674707\n"
     ]
    }
   ],
   "source": [
    "g13c,g23c,g33c=get_vgap([10000,90000],[20000,20000],5,90000,utility_func_c,[0,0,0.2])"
   ]
  },
  {
   "cell_type": "markdown",
   "metadata": {
    "id": "FOnGu6cAuRha"
   },
   "source": [
    "# Calculate L matrix"
   ]
  },
  {
   "cell_type": "code",
   "execution_count": null,
   "metadata": {},
   "outputs": [],
   "source": [
    "Gap 0.45738226301711915 0.10492674938835389 -0.012332599563730007\n",
    "Gap 0.08993564849956126 0.17815757916991815 -0.0010839639875976914\n",
    "Gap 0.0034277867724332722 0.00225657814324709 0.29825261255819235"
   ]
  },
  {
   "cell_type": "code",
   "execution_count": null,
   "metadata": {},
   "outputs": [],
   "source": [
    "Gap 1.2379799731607277 -0.09901665282173466 0.009414949860635069\n",
    "Gap -0.11015155599964821 0.19847037605772722 0.00798941294173705\n",
    "Gap -0.01663484211594346 -0.002696506245851049 0.2992208639674707"
   ]
  },
  {
   "cell_type": "markdown",
   "metadata": {},
   "source": [
    "## Substitute"
   ]
  },
  {
   "cell_type": "code",
   "execution_count": 55,
   "metadata": {},
   "outputs": [
    {
     "name": "stdout",
     "output_type": "stream",
     "text": [
      "Lmm=fm/dbeta= 0.670572499883728\n"
     ]
    }
   ],
   "source": [
    "print('Lmm=fm/dbeta=', 0.2/g33)"
   ]
  },
  {
   "cell_type": "code",
   "execution_count": 53,
   "metadata": {},
   "outputs": [
    {
     "data": {
      "text/plain": [
       "67.05724998837279"
      ]
     },
     "execution_count": 53,
     "metadata": {},
     "output_type": "execute_result"
    }
   ],
   "source": [
    "0.2=a*dv1+b*dv2\n",
    "0=c*dv1+d*dv2\n",
    "\n",
    "0=a*dv1+b*dv2\n",
    "0.2=c*dv1+d*dv2"
   ]
  },
  {
   "cell_type": "code",
   "execution_count": null,
   "metadata": {},
   "outputs": [],
   "source": [
    "0.2=a*0.457+b*0.105\n",
    "0=c*0.457+d*0.105\n",
    "0=a*0.090+b*0.178\n",
    "0.2=c*0.090+d*0.178"
   ]
  },
  {
   "cell_type": "code",
   "execution_count": 56,
   "metadata": {},
   "outputs": [
    {
     "name": "stdout",
     "output_type": "stream",
     "text": [
      "a = 0.4952\n",
      "b = -0.2504\n",
      "c = -0.2921\n",
      "d = 1.2713\n"
     ]
    }
   ],
   "source": [
    "import numpy as np\n",
    "\n",
    "# Coefficient matrix\n",
    "A = np.array([\n",
    "    [0.457, 0.105, 0, 0],\n",
    "    [0, 0, 0.457, 0.105],\n",
    "    [0.090, 0.178, 0, 0],\n",
    "    [0, 0, 0.090, 0.178]\n",
    "])\n",
    "\n",
    "# Constant matrix\n",
    "B = np.array([0.2, 0, 0, 0.2])\n",
    "\n",
    "# Solving the system of equations\n",
    "solution = np.linalg.solve(A, B)\n",
    "\n",
    "# Output the solution\n",
    "a, b, c, d = solution\n",
    "print(f\"a = {a:.4f}\")\n",
    "print(f\"b = {b:.4f}\")\n",
    "print(f\"c = {c:.4f}\")\n",
    "print(f\"d = {d:.4f}\")\n"
   ]
  },
  {
   "cell_type": "markdown",
   "metadata": {},
   "source": [
    "## Complement"
   ]
  },
  {
   "cell_type": "code",
   "execution_count": 57,
   "metadata": {},
   "outputs": [
    {
     "name": "stdout",
     "output_type": "stream",
     "text": [
      "a = 0.1691\n",
      "b = 0.0938\n",
      "c = 0.0843\n",
      "d = 1.0545\n"
     ]
    }
   ],
   "source": [
    "import numpy as np\n",
    "\n",
    "# Coefficient matrix\n",
    "A = np.array([\n",
    "    [g11c, g21c, 0, 0],\n",
    "    [0, 0, g11c, g21c],\n",
    "    [g12c, g22c, 0, 0],\n",
    "    [0, 0, g12c, g22c]\n",
    "])\n",
    "\n",
    "# Constant matrix\n",
    "B = np.array([0.2, 0, 0, 0.2])\n",
    "\n",
    "# Solving the system of equations\n",
    "solution = np.linalg.solve(A, B)\n",
    "\n",
    "# Output the solution\n",
    "a, b, c, d = solution\n",
    "print(f\"a = {a:.4f}\")\n",
    "print(f\"b = {b:.4f}\")\n",
    "print(f\"c = {c:.4f}\")\n",
    "print(f\"d = {d:.4f}\")\n"
   ]
  },
  {
   "cell_type": "code",
   "execution_count": 58,
   "metadata": {},
   "outputs": [
    {
     "name": "stdout",
     "output_type": "stream",
     "text": [
      "Lmm=fm/dbeta= 0.6684025884697087\n"
     ]
    }
   ],
   "source": [
    "print('Lmm=fm/dbeta=', 0.2/g33c)"
   ]
  },
  {
   "cell_type": "markdown",
   "metadata": {},
   "source": [
    "$$ \n",
    "\\begin{bmatrix}\n",
    "0.6705 & \\begin{bmatrix} 0, 0 \\end{bmatrix} \\\\\n",
    "\\begin{bmatrix} 0 \\\\ 0 \\end{bmatrix} & \\begin{bmatrix} 0.4952 & -0.2504 \\\\ -0.2921 & 1.2713 \\end{bmatrix}\n",
    "\\end{bmatrix}\n",
    "$$\n"
   ]
  },
  {
   "cell_type": "code",
   "execution_count": null,
   "metadata": {},
   "outputs": [],
   "source": []
  },
  {
   "cell_type": "markdown",
   "metadata": {},
   "source": [
    "$$ \n",
    "\\begin{bmatrix}\n",
    "0.6684 & \\begin{bmatrix} 0, 0 \\end{bmatrix} \\\\\n",
    "\\begin{bmatrix} 0 \\\\ 0 \\end{bmatrix} & \\begin{bmatrix} 0.1691 & 0.0938 \\\\ 0.0843 & 1.0545 \\end{bmatrix}\n",
    "\\end{bmatrix}\n",
    "$$"
   ]
  },
  {
   "cell_type": "code",
   "execution_count": null,
   "metadata": {},
   "outputs": [],
   "source": []
  }
 ],
 "metadata": {
  "accelerator": "GPU",
  "colab": {
   "authorship_tag": "ABX9TyNdifWY8+xIvGI5uuqFwAxB",
   "provenance": []
  },
  "kernelspec": {
   "display_name": "Python 3 (ipykernel)",
   "language": "python",
   "name": "python3"
  },
  "language_info": {
   "codemirror_mode": {
    "name": "ipython",
    "version": 3
   },
   "file_extension": ".py",
   "mimetype": "text/x-python",
   "name": "python",
   "nbconvert_exporter": "python",
   "pygments_lexer": "ipython3",
   "version": "3.12.4"
  }
 },
 "nbformat": 4,
 "nbformat_minor": 4
}
